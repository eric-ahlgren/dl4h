{
 "cells": [
  {
   "cell_type": "code",
   "execution_count": 84,
   "id": "3f6a0fae",
   "metadata": {},
   "outputs": [],
   "source": [
    "import os\n",
    "import numpy as np\n",
    "import pandas as pd\n",
    "import pickle\n",
    "import re\n",
    "import requests"
   ]
  },
  {
   "cell_type": "code",
   "execution_count": 85,
   "id": "d83b6b7b",
   "metadata": {},
   "outputs": [],
   "source": [
    "MIMIC_DATA_PATH = \"/Users/ericahlgren/Documents/UIUC/CS598/Project/data/mimic-iii-clinical-database-1.4\"\n",
    "OUT_PATH = \"data\""
   ]
  },
  {
   "cell_type": "code",
   "execution_count": 86,
   "id": "7497f16c",
   "metadata": {},
   "outputs": [],
   "source": [
    "#admissions = pd.read_csv(os.path.join(MIMIC_DATA_PATH, \"ADMISSIONS.csv\"))\n",
    "icustays = pd.read_csv(os.path.join(MIMIC_DATA_PATH, \"ICUSTAYS.csv\"))\n",
    "#icustays = icustays.drop_duplicates(subset='HADM_ID')\n",
    "diagnoses = pd.read_csv(os.path.join(MIMIC_DATA_PATH, \"DIAGNOSES_ICD.csv\"))\n",
    "d_icd = pd.read_csv(os.path.join(MIMIC_DATA_PATH, \"D_ICD_DIAGNOSES.csv\"))"
   ]
  },
  {
   "cell_type": "code",
   "execution_count": 87,
   "id": "cb3099b5",
   "metadata": {},
   "outputs": [],
   "source": [
    "d_icd['LONG_TITLE_REPL'] = (d_icd.LONG_TITLE.str.replace('-', ' ', regex=False)\n",
    "                            .str.replace('[^\\w\\s]','', regex=True)\n",
    "                            .str.replace('[\\d]', '', regex=True)\n",
    "                            .str.lower())\n",
    "diag_desc = pd.merge(diagnoses, d_icd, left_on=\"ICD9_CODE\", right_on=\"ICD9_CODE\")\n",
    "icu_diag_merge = pd.merge(icustays, diag_desc, left_on=\"HADM_ID\", right_on=\"HADM_ID\")\n",
    "icu_diag_merge = icu_diag_merge.drop('SUBJECT_ID_y', axis=1)\n",
    "icu_diag_merge = icu_diag_merge.rename({'SUBJECT_ID_x': 'SUBJECT_ID'}, axis=1)\n",
    "icu_diag_merge = icu_diag_merge.dropna(subset=['ICD9_CODE'])\n",
    "icu_diag_merge = icu_diag_merge.loc[\n",
    "    icu_diag_merge.groupby('SUBJECT_ID')['ICUSTAY_ID'].transform('nunique') > 1\n",
    "]"
   ]
  },
  {
   "cell_type": "code",
   "execution_count": 88,
   "id": "93d31af6",
   "metadata": {},
   "outputs": [],
   "source": [
    "def insert_decimal(row):\n",
    "    icd_str = str(row.ICD9_CODE)\n",
    "    if icd_str.startswith('E'):\n",
    "        out_str = icd_str[:4] + '.' + icd_str[4:]\n",
    "    else:\n",
    "        out_str = icd_str[:3] + '.' + icd_str[3:]\n",
    "    return out_str\n",
    "\n",
    "icu_diag_merge['ICD9_CODE_D'] = icu_diag_merge.apply(insert_decimal, axis=1)\n",
    "icu_diag_merge['ICD_CAT'] = icu_diag_merge.apply(\n",
    "    lambda row: row.ICD9_CODE_D.split('.')[0], axis=1)"
   ]
  },
  {
   "cell_type": "code",
   "execution_count": 89,
   "id": "168634d5",
   "metadata": {},
   "outputs": [],
   "source": [
    "page = requests.get(\"http://www.icd9data.com/2015/Volume1/default.htm\")\n",
    "categories = re.findall(\n",
    "    r'\\<a href=\"/2015/Volume1/([0-9VE]{3,4}-[0-9VE]{3,4})/default.htm\".*?alt=\"\" /> ([a-zA-Z \\-,]+)</li',\n",
    "    page.text)\n",
    "icd_category_df = pd.DataFrame(categories, columns=['ICD_RANGE', 'ICD_CATEGORY_DESC'])\n",
    "sub_categories = re.findall(\n",
    "    r'class=&quot;identifier&quot;&gt;([0-9VE\\-].*?)&lt;/span&gt; ([a-zA-Z \\-,]+)&lt',\n",
    "    page.text)\n",
    "icd_subcategory_df = pd.DataFrame(sub_categories, columns=['ICD_SUBRANGE', 'ICD_SUBCATEGORY_DESC'])\n",
    "icd_subcategory_df['ICD_SUBCATEGORY_DESC_REPL'] = icd_subcategory_df.ICD_SUBCATEGORY_DESC.str.replace('-', ' ', regex=False).str.replace('[^\\w\\s]','', regex=True).str.lower()\n",
    "icd_subcategory_df = icd_subcategory_df.reset_index().rename({'index': 'ICD_SUBCATEGORY_INDEX'}, axis=1)"
   ]
  },
  {
   "cell_type": "code",
   "execution_count": 90,
   "id": "bf8c5309",
   "metadata": {},
   "outputs": [],
   "source": [
    "def get_subcategory_index(row):\n",
    "    try:\n",
    "        icd_cat = int(row.ICD_CAT)\n",
    "    except ValueError:\n",
    "        icd_cat = int(row.ICD_CAT[1:])\n",
    "    if row.ICD_CAT.startswith('E'):\n",
    "        for idx in icd_subcategory_df[icd_subcategory_df.ICD_SUBRANGE.str.startswith('E')].index:\n",
    "            low, high = [int(i[1:]) for i in icd_subcategory_df.iloc[idx].ICD_SUBRANGE.split('-')]\n",
    "            if icd_cat >= low and icd_cat <= high:\n",
    "                return idx\n",
    "    elif row.ICD_CAT.startswith('V'):\n",
    "        for idx in icd_subcategory_df[icd_subcategory_df.ICD_SUBRANGE.str.startswith('V')].index:\n",
    "            low, high = [int(i[1:]) for i in icd_subcategory_df.iloc[idx].ICD_SUBRANGE.split('-')]\n",
    "            if icd_cat >= low and icd_cat <= high:\n",
    "                return idx\n",
    "    else:\n",
    "        for idx in icd_subcategory_df[~((icd_subcategory_df.ICD_SUBRANGE.str.startswith('E')) | (icd_subcategory_df.ICD_SUBRANGE.str.startswith('V')))].index:\n",
    "            if '-' in icd_subcategory_df.iloc[idx].ICD_SUBRANGE:\n",
    "                low, high = [int(i) for i in icd_subcategory_df.iloc[idx].ICD_SUBRANGE.split('-')]\n",
    "                if icd_cat >= low and icd_cat <= high:\n",
    "                    return idx\n",
    "            else:\n",
    "                if icd_cat == int(icd_subcategory_df.iloc[idx].ICD_SUBRANGE):\n",
    "                    return idx\n",
    "\n",
    "icu_diag_merge['ICD_SUBCATEGORY_INDEX'] = icu_diag_merge.apply(get_subcategory_index, axis=1)\n",
    "icu_diag_merge = pd.merge(icu_diag_merge, icd_subcategory_df, left_on='ICD_SUBCATEGORY_INDEX', right_on='ICD_SUBCATEGORY_INDEX')"
   ]
  },
  {
   "cell_type": "code",
   "execution_count": 8,
   "id": "c8c5e983",
   "metadata": {},
   "outputs": [],
   "source": [
    "def get_category_index(row):\n",
    "    if row.ICD_CAT.startswith('E'):\n",
    "        return icd_category_df[\n",
    "            icd_category_df.ICD_RANGE.str.startswith('E')].index.values[0]\n",
    "    elif row.ICD_CAT.startswith('V'):\n",
    "        return icd_category_df[\n",
    "            icd_category_df.ICD_RANGE.str.startswith('V')].index.values[0]\n",
    "    else:\n",
    "        for idx, rr in icd_category_df[:-2].iterrows():\n",
    "            low, high = [int(i) for i in rr.ICD_RANGE.split('-')]\n",
    "            icd_cat = int(row.ICD_CAT)\n",
    "            if icd_cat >= low and icd_cat <= high:\n",
    "                return idx\n",
    "\n",
    "# icu_diag_merge['ICD_CATEGORY_INDEX'] = icu_diag_merge.apply(get_category_index, axis=1)\n",
    "# icu_diag_merge = pd.merge(icu_diag_merge, icd_category_df, left_on='ICD_CATEGORY_INDEX', right_index=True)"
   ]
  },
  {
   "cell_type": "code",
   "execution_count": 25,
   "id": "73c4b80a",
   "metadata": {},
   "outputs": [],
   "source": [
    "def get_category_desc(row):\n",
    "    if row.ICD_CAT.startswith('E'):\n",
    "        return icd_category_df.loc[\n",
    "            icd_category_df.ICD_RANGE == \"E000-E999\", \"ICD_CATEGORY_DESC\"].values[0]\n",
    "    elif row.ICD_CAT.startswith('V'):\n",
    "        return icd_category_df.loc[\n",
    "            icd_category_df.ICD_RANGE == \"V01-V91\", \"ICD_CATEGORY_DESC\"].values[0]\n",
    "    else:\n",
    "        for idx, rr in icd_category_df[:-2].iterrows():\n",
    "            low, high = [int(i) for i in rr.ICD_RANGE.split('-')]\n",
    "            icd_cat = int(row.ICD_CAT)\n",
    "            if icd_cat >= low and icd_cat <= high:\n",
    "                return rr.ICD_CATEGORY_DESC\n",
    "\n",
    "\n",
    "#icu_diag_merge['ICD_CATEGORY_DESC'] = icu_diag_merge.apply(get_category_desc, axis=1)"
   ]
  },
  {
   "cell_type": "code",
   "execution_count": 77,
   "id": "81e69c7d",
   "metadata": {},
   "outputs": [],
   "source": [
    "#icd9_df = pd.DataFrame(sorted(icu_diag_merge.ICD9_CODE.unique()), columns=[\"ICD9_CODE\"])\n",
    "icd9_df = (pd.DataFrame(icu_diag_merge, columns=[\"ICD9_CODE\", \"LONG_TITLE_REPL\"])\n",
    "           .drop_duplicates(subset=\"ICD9_CODE\")\n",
    "           .sort_values(\"ICD9_CODE\"))\n",
    "icd9_df = (icd9_df\n",
    "           .reset_index(drop=True)\n",
    "           .reset_index()\n",
    "           .rename({'index': 'ICD9_CODE_INDEX'}, axis=1))\n",
    "#icd9_df.ICD9_CODE_INDEX += 1\n",
    "icd9 = icd9_df.ICD9_CODE.tolist()\n",
    "icd9_text = icd9_df.LONG_TITLE_REPL.tolist()"
   ]
  },
  {
   "cell_type": "code",
   "execution_count": 16,
   "id": "666f96cf",
   "metadata": {},
   "outputs": [],
   "source": [
    "icu_diag_merge = pd.merge(icu_diag_merge, icd9_df, left_on='ICD9_CODE', right_on='ICD9_CODE')\n",
    "icu_diag_merge = icu_diag_merge.sort_values(['SUBJECT_ID', 'ICUSTAY_ID'])\n",
    "icu_diag_merge.to_csv(os.path.join(MIMIC_DATA_PATH, \"icu_diag_merge.csv\"))"
   ]
  },
  {
   "cell_type": "code",
   "execution_count": 30,
   "id": "054e318c",
   "metadata": {},
   "outputs": [],
   "source": [
    "def get_description_vocab(input_df, col='LONG_TITLE_REPL'):\n",
    "    words = set()\n",
    "    phrases = input_df[col].unique()\n",
    "    for ph in phrases:\n",
    "        words.update(ph.split())\n",
    "    return words"
   ]
  },
  {
   "cell_type": "code",
   "execution_count": 31,
   "id": "aaabde5c",
   "metadata": {},
   "outputs": [],
   "source": [
    "def calculate_summary_stats(input_df):\n",
    "    num_patients = input_df.SUBJECT_ID.nunique()\n",
    "    num_visits = input_df.ICUSTAY_ID.nunique()\n",
    "    mean_visits_per_patient = np.round(num_visits / num_patients, 2)\n",
    "    num_icd = input_df.ICD9_CODE.nunique()\n",
    "    mean_icd_per_visit = np.round(input_df.groupby('ICUSTAY_ID').ICD9_CODE.nunique().mean(), 2)\n",
    "    max_icd_per_visit = input_df.groupby('ICUSTAY_ID').ICD9_CODE.nunique().max()\n",
    "    num_words = len(get_description_vocab(input_df))\n",
    "    num_categories = input_df.ICD_SUBCATEGORY_INDEX.nunique()\n",
    "    mean_categories_per_visit = np.round(input_df.groupby('ICUSTAY_ID').ICD_SUBCATEGORY_INDEX.nunique().mean(), 2)\n",
    "    max_categories_per_visit = input_df.groupby('ICUSTAY_ID').ICD_SUBCATEGORY_INDEX.nunique().max()\n",
    "    print(f\"# of patients: \\t\\t\\t\\t{num_patients:,}\")\n",
    "    print(f\"# of visits: \\t\\t\\t\\t{num_visits:,}\")\n",
    "    print(f\"Avg. visits per patient: \\t\\t{mean_visits_per_patient}\")\n",
    "    print(f\"# of unique ICD9 codes: \\t\\t{num_icd:,}\")\n",
    "    print(f\"Avg. # of diagnosis codes per visit: \\t{mean_icd_per_visit}\")\n",
    "    print(f\"Max # of diagnosis codes per visit: \\t{max_icd_per_visit}\")\n",
    "    print(f\"# of words in code descriptions: \\t{num_words:,}\")\n",
    "    print(f\"# of category codes: \\t\\t\\t{num_categories:,}\")\n",
    "    print(f\"Avg. # of category codes per visit: \\t{mean_categories_per_visit}\")\n",
    "    print(f\"Max # of category codes per visit: \\t{max_categories_per_visit}\")\n",
    "    \n",
    "    "
   ]
  },
  {
   "cell_type": "code",
   "execution_count": 32,
   "id": "e7abbaa1",
   "metadata": {},
   "outputs": [
    {
     "name": "stdout",
     "output_type": "stream",
     "text": [
      "# of patients: \t\t\t\t8,748\n",
      "# of visits: \t\t\t\t23,796\n",
      "Avg. visits per patient: \t\t2.72\n",
      "# of unique ICD9 codes: \t\t4,903\n",
      "Avg. # of diagnosis codes per visit: \t13.85\n",
      "Max # of diagnosis codes per visit: \t39\n",
      "# of words in code descriptions: \t3,164\n",
      "# of category codes: \t\t\t177\n",
      "Avg. # of category codes per visit: \t10.69\n",
      "Max # of category codes per visit: \t30\n"
     ]
    }
   ],
   "source": [
    "calculate_summary_stats(icu_diag_merge)"
   ]
  },
  {
   "cell_type": "code",
   "execution_count": 21,
   "id": "dd475d79",
   "metadata": {},
   "outputs": [],
   "source": [
    "def construct_targets(pids):\n",
    "    seqs = []\n",
    "    for p_idx, pid in enumerate(pids):\n",
    "        seqs.append([])\n",
    "        subset = icu_diag_merge[icu_diag_merge.SUBJECT_ID == pid]\n",
    "        vid_subset = subset.ICUSTAY_ID.unique()\n",
    "        for v_idx, vid in enumerate(vid_subset):\n",
    "            seqs[p_idx].append(subset[subset.ICUSTAY_ID == vid].ICD_SUBCATEGORY_INDEX.unique().tolist())\n",
    "    return seqs"
   ]
  },
  {
   "cell_type": "code",
   "execution_count": 22,
   "id": "c6de03f1",
   "metadata": {},
   "outputs": [],
   "source": [
    "def construct_seqs(pids):\n",
    "    seqs = []\n",
    "    vids = []\n",
    "    for p_idx, pid in enumerate(pids):\n",
    "        vids.append([])\n",
    "        seqs.append([])\n",
    "        subset = icu_diag_merge[icu_diag_merge.SUBJECT_ID == pid]\n",
    "        vid_subset = subset.ICUSTAY_ID.unique()\n",
    "        for v_idx, vid in enumerate(vid_subset):\n",
    "            vids[p_idx].append(v_idx)\n",
    "            seqs[p_idx].append(subset[subset.ICUSTAY_ID == vid].ICD9_CODE_INDEX.unique().tolist())\n",
    "    return seqs, vids"
   ]
  },
  {
   "cell_type": "code",
   "execution_count": 23,
   "id": "dd4f3d87",
   "metadata": {},
   "outputs": [],
   "source": [
    "def construct_text_seqs(pids):\n",
    "    seqs = []\n",
    "    for p_idx, pid in enumerate(pids):\n",
    "        seqs.append([])\n",
    "        subset = icu_diag_merge[icu_diag_merge.SUBJECT_ID == pid]\n",
    "        vid_subset = subset.ICUSTAY_ID.unique()\n",
    "        for v_idx, vid in enumerate(vid_subset):\n",
    "            seqs[p_idx].append(\n",
    "                subset[subset.ICUSTAY_ID == vid].LONG_TITLE_REPL.unique().tolist()\n",
    "            )\n",
    "    return seqs"
   ]
  },
  {
   "cell_type": "code",
   "execution_count": 24,
   "id": "c27f8b3b",
   "metadata": {},
   "outputs": [],
   "source": [
    "def construct_seqs_multihot(pids):\n",
    "    seqs = []\n",
    "    vids = []\n",
    "    for p_idx, pid in enumerate(pids):\n",
    "        vids.append([])\n",
    "        seqs.append([])\n",
    "        subset = icu_diag_merge[icu_diag_merge.SUBJECT_ID == pid]\n",
    "        vid_subset = subset.ICUSTAY_ID.unique()\n",
    "        for v_idx, vid in enumerate(vid_subset):\n",
    "            vids[p_idx].append(v_idx)\n",
    "            seq_idxs = (subset[subset.ICUSTAY_ID == vid].ICD9_CODE_INDEX.unique())\n",
    "            seq_row = np.zeros(len(icd9_df), dtype=int)\n",
    "            seq_row[seq_idxs] = 1\n",
    "            seqs[p_idx].append(seq_row.tolist())\n",
    "            #seqs[p_idx].append(subset[subset.ICUSTAY_ID == vid].ICD_SUBCATEGORY_INDEX.unique().tolist())\n",
    "    return seqs, vids"
   ]
  },
  {
   "cell_type": "code",
   "execution_count": 37,
   "id": "0c8d6e1f",
   "metadata": {},
   "outputs": [],
   "source": [
    "pids = icu_diag_merge.SUBJECT_ID.unique().tolist()\n",
    "diags = icu_diag_merge.ICD_CAT.unique().tolist()\n",
    "sub_categories = icd_subcategory_df.ICD_SUBRANGE.unique().tolist()\n",
    "categories = icu_diag_merge.ICD_CATEGORY_INDEX.unique().tolist()\n",
    "codes = icu_diag_merge.ICD9_CODE_INDEX.unique().tolist()\n",
    "seqs, vids = construct_seqs(pids)\n",
    "text_seqs = construct_text_seqs(pids)\n",
    "targets = construct_targets(pids)"
   ]
  },
  {
   "cell_type": "code",
   "execution_count": 80,
   "id": "8a7adc2d",
   "metadata": {},
   "outputs": [
    {
     "data": {
      "text/plain": [
       "ICD9_CODE_INDEX                   2611\n",
       "ICD9_CODE                          683\n",
       "LONG_TITLE_REPL    acute lymphadenitis\n",
       "Name: 2611, dtype: object"
      ]
     },
     "execution_count": 80,
     "metadata": {},
     "output_type": "execute_result"
    }
   ],
   "source": [
    "icd9_df.iloc[2611]"
   ]
  },
  {
   "cell_type": "code",
   "execution_count": 38,
   "id": "fc58e22b",
   "metadata": {},
   "outputs": [],
   "source": [
    "with open(os.path.join(OUT_PATH, 'pids.pkl'), 'wb') as f:\n",
    "    pickle.dump(pids, f)"
   ]
  },
  {
   "cell_type": "code",
   "execution_count": 39,
   "id": "f8c2ee33",
   "metadata": {},
   "outputs": [],
   "source": [
    "with open(os.path.join(OUT_PATH, 'seqs.pkl'), 'wb') as f:\n",
    "    pickle.dump(seqs, f)"
   ]
  },
  {
   "cell_type": "code",
   "execution_count": 38,
   "id": "edf57ba1",
   "metadata": {},
   "outputs": [],
   "source": [
    "with open(os.path.join(OUT_PATH, 'text_seqs.pkl'), 'wb') as f:\n",
    "    pickle.dump(text_seqs, f)"
   ]
  },
  {
   "cell_type": "code",
   "execution_count": 40,
   "id": "9287dd6f",
   "metadata": {},
   "outputs": [],
   "source": [
    "with open(os.path.join(OUT_PATH, 'targets.pkl'), 'wb') as f:\n",
    "    pickle.dump(targets, f)"
   ]
  },
  {
   "cell_type": "code",
   "execution_count": 41,
   "id": "acd82256",
   "metadata": {},
   "outputs": [],
   "source": [
    "with open(os.path.join(OUT_PATH, 'vids.pkl'), 'wb') as f:\n",
    "    pickle.dump(vids, f)"
   ]
  },
  {
   "cell_type": "code",
   "execution_count": 42,
   "id": "8fbf4caf",
   "metadata": {},
   "outputs": [],
   "source": [
    "with open(os.path.join(OUT_PATH, 'subcategories.pkl'), 'wb') as f:\n",
    "    pickle.dump(sub_categories, f)"
   ]
  },
  {
   "cell_type": "code",
   "execution_count": 43,
   "id": "793342c8",
   "metadata": {},
   "outputs": [],
   "source": [
    "with open(os.path.join(OUT_PATH, 'categories.pkl'), 'wb') as f:\n",
    "    pickle.dump(categories, f)"
   ]
  },
  {
   "cell_type": "code",
   "execution_count": 44,
   "id": "6f653fde",
   "metadata": {},
   "outputs": [],
   "source": [
    "with open(os.path.join(OUT_PATH, 'icd9.pkl'), 'wb') as f:\n",
    "    pickle.dump(icd9, f)"
   ]
  },
  {
   "cell_type": "code",
   "execution_count": 79,
   "id": "dd35582d",
   "metadata": {},
   "outputs": [],
   "source": [
    "with open(os.path.join(OUT_PATH, 'icd9_text.pkl'), 'wb') as f:\n",
    "    pickle.dump(icd9_text, f)"
   ]
  },
  {
   "cell_type": "code",
   "execution_count": 45,
   "id": "0da310b8",
   "metadata": {},
   "outputs": [],
   "source": [
    "with open(os.path.join(OUT_PATH, 'diags.pkl'), 'wb') as f:\n",
    "    pickle.dump(diags, f)"
   ]
  },
  {
   "cell_type": "code",
   "execution_count": 46,
   "id": "ea1a63a2",
   "metadata": {},
   "outputs": [],
   "source": [
    "def calculate_prob_row(row_indxs, num_categories):\n",
    "    unit_p = 1 / len(row_indxs)\n",
    "    row = [0.0] * num_categories\n",
    "    for ri in row_indxs:\n",
    "        row[ri] += unit_p\n",
    "    assert np.isclose(sum(row), 1.0), f\"row={row}, sum row={sum(row)}\"\n",
    "    return row"
   ]
  },
  {
   "cell_type": "code",
   "execution_count": 47,
   "id": "bd139925",
   "metadata": {},
   "outputs": [],
   "source": [
    "def construct_prob_targets_last_visit(pids, categories, field='ICD_SUBCATEGORY_INDEX'):\n",
    "    targets = []\n",
    "    num_categories = len(categories)\n",
    "    for p_idx, pid in enumerate(pids):\n",
    "        subset = icu_diag_merge[icu_diag_merge.SUBJECT_ID == pid]\n",
    "        last_visit = subset.ICUSTAY_ID.unique()[-1]\n",
    "        row_indxs = subset[subset.ICUSTAY_ID == last_visit][field].tolist()\n",
    "        targets.append(calculate_prob_row(row_indxs, num_categories))\n",
    "    return targets"
   ]
  },
  {
   "cell_type": "code",
   "execution_count": 48,
   "id": "02ad2356",
   "metadata": {},
   "outputs": [],
   "source": [
    "def construct_prob_targets_all_visits(pids, categories, field='ICD_SUBCATEGORY_INDEX'):\n",
    "    targets = []\n",
    "    num_categories = len(categories)\n",
    "    for p_idx, pid in enumerate(pids):\n",
    "        visit = []\n",
    "        subset = icu_diag_merge[icu_diag_merge.SUBJECT_ID == pid]\n",
    "        visits = subset.ICUSTAY_ID.unique()\n",
    "        for v in visits:\n",
    "            row_indxs = subset[subset.ICUSTAY_ID == v][field].tolist()\n",
    "            visit.append(calculate_prob_row(row_indxs, num_categories))\n",
    "        targets.append(visit)\n",
    "    return targets"
   ]
  },
  {
   "cell_type": "code",
   "execution_count": 50,
   "id": "e9fd8290",
   "metadata": {},
   "outputs": [],
   "source": [
    "prob_targets = construct_prob_targets_last_visit(pids, sub_categories)\n",
    "prob_targets_allvisits = construct_prob_targets_all_visits(pids, sub_categories)"
   ]
  },
  {
   "cell_type": "code",
   "execution_count": 51,
   "id": "779c1a35",
   "metadata": {},
   "outputs": [],
   "source": [
    "with open(os.path.join(OUT_PATH, 'prob_targets.pkl'), 'wb') as f:\n",
    "    pickle.dump(prob_targets, f)"
   ]
  },
  {
   "cell_type": "code",
   "execution_count": 52,
   "id": "acce2608",
   "metadata": {},
   "outputs": [],
   "source": [
    "with open(os.path.join(OUT_PATH, 'prob_targets_allvisits.pkl'), 'wb') as f:\n",
    "    pickle.dump(prob_targets_allvisits, f)"
   ]
  },
  {
   "cell_type": "code",
   "execution_count": null,
   "id": "d299277e",
   "metadata": {},
   "outputs": [],
   "source": []
  }
 ],
 "metadata": {
  "kernelspec": {
   "display_name": "dl4h",
   "language": "python",
   "name": "dl4h"
  },
  "language_info": {
   "codemirror_mode": {
    "name": "ipython",
    "version": 3
   },
   "file_extension": ".py",
   "mimetype": "text/x-python",
   "name": "python",
   "nbconvert_exporter": "python",
   "pygments_lexer": "ipython3",
   "version": "3.8.12"
  }
 },
 "nbformat": 4,
 "nbformat_minor": 5
}
