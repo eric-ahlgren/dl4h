{
 "cells": [
  {
   "cell_type": "code",
   "execution_count": null,
   "id": "3f6a0fae",
   "metadata": {},
   "outputs": [],
   "source": [
    "import os\n",
    "import numpy as np\n",
    "import pandas as pd\n",
    "import pickle\n",
    "import re\n",
    "import requests\n",
    "import time"
   ]
  },
  {
   "cell_type": "markdown",
   "id": "02c842d5",
   "metadata": {},
   "source": [
    "### Set the below variables to the paths to input MIMIC data and output processed data:"
   ]
  },
  {
   "cell_type": "code",
   "execution_count": null,
   "id": "d83b6b7b",
   "metadata": {},
   "outputs": [],
   "source": [
    "# Set this variable to your local path to the MIMIC-III dataset csv files\n",
    "MIMIC_DATA_PATH = \"/Users/ericahlgren/Documents/UIUC/CS598/Project/data/mimic-iii-clinical-database-1.4\"\n",
    "OUT_PATH = \"data/\""
   ]
  },
  {
   "cell_type": "markdown",
   "id": "27200415",
   "metadata": {},
   "source": [
    "### Read the csvs with ICU visit and diagnosis information:"
   ]
  },
  {
   "cell_type": "code",
   "execution_count": null,
   "id": "7497f16c",
   "metadata": {},
   "outputs": [],
   "source": [
    "icustays = pd.read_csv(os.path.join(MIMIC_DATA_PATH, \"ICUSTAYS.csv\"))\n",
    "diagnoses = pd.read_csv(os.path.join(MIMIC_DATA_PATH, \"DIAGNOSES_ICD.csv\"))\n",
    "d_icd = pd.read_csv(os.path.join(MIMIC_DATA_PATH, \"D_ICD_DIAGNOSES.csv\"))"
   ]
  },
  {
   "cell_type": "markdown",
   "id": "802e308e",
   "metadata": {},
   "source": [
    "### Tokenize the diagnosis descriptions and merge into one DataFrame:"
   ]
  },
  {
   "cell_type": "code",
   "execution_count": null,
   "id": "cb3099b5",
   "metadata": {},
   "outputs": [],
   "source": [
    "d_icd['LONG_TITLE_REPL'] = (d_icd.LONG_TITLE.str.replace('-', ' ', regex=False)\n",
    "                            .str.replace('[^\\w\\s]','', regex=True)\n",
    "                            .str.replace('[\\d]', '', regex=True)\n",
    "                            .str.lower())\n",
    "diag_desc = pd.merge(diagnoses, d_icd, left_on=\"ICD9_CODE\", right_on=\"ICD9_CODE\")\n",
    "icu_diag_merge = pd.merge(icustays, diag_desc, left_on=\"HADM_ID\", right_on=\"HADM_ID\")\n",
    "icu_diag_merge = icu_diag_merge.drop('SUBJECT_ID_y', axis=1)\n",
    "icu_diag_merge = icu_diag_merge.rename({'SUBJECT_ID_x': 'SUBJECT_ID'}, axis=1)\n",
    "icu_diag_merge = icu_diag_merge.dropna(subset=['ICD9_CODE'])\n",
    "icu_diag_merge = icu_diag_merge.loc[\n",
    "    icu_diag_merge.groupby('SUBJECT_ID')['ICUSTAY_ID'].transform('nunique') > 1\n",
    "]"
   ]
  },
  {
   "cell_type": "markdown",
   "id": "83d98eee",
   "metadata": {},
   "source": [
    "### Define function to format ICD-9 codes with correct decimal placement:"
   ]
  },
  {
   "cell_type": "code",
   "execution_count": null,
   "id": "93d31af6",
   "metadata": {},
   "outputs": [],
   "source": [
    "def insert_decimal(row):\n",
    "    icd_str = str(row.ICD9_CODE)\n",
    "    if icd_str.startswith('E'):\n",
    "        out_str = icd_str[:4] + '.' + icd_str[4:]\n",
    "    else:\n",
    "        out_str = icd_str[:3] + '.' + icd_str[3:]\n",
    "    return out_str\n",
    "\n",
    "icu_diag_merge['ICD9_CODE_D'] = icu_diag_merge.apply(insert_decimal, axis=1)\n",
    "icu_diag_merge['ICD_CAT'] = icu_diag_merge.apply(\n",
    "    lambda row: row.ICD9_CODE_D.split('.')[0], axis=1)"
   ]
  },
  {
   "cell_type": "markdown",
   "id": "27a47d65",
   "metadata": {},
   "source": [
    "### Web scraper for extracting category-level binning and descriptions"
   ]
  },
  {
   "cell_type": "code",
   "execution_count": null,
   "id": "168634d5",
   "metadata": {},
   "outputs": [],
   "source": [
    "page = requests.get(\"http://www.icd9data.com/2015/Volume1/default.htm\")\n",
    "categories = re.findall(\n",
    "    r'\\<a href=\"/2015/Volume1/([0-9VE]{3,4}-[0-9VE]{3,4})/default.htm\".*?alt=\"\" /> ([a-zA-Z \\-,]+)</li',\n",
    "    page.text)\n",
    "icd_category_df = pd.DataFrame(categories, columns=['ICD_RANGE', 'ICD_CATEGORY_DESC'])\n",
    "sub_categories = re.findall(\n",
    "    r'class=&quot;identifier&quot;&gt;([0-9VE\\-].*?)&lt;/span&gt; ([a-zA-Z \\-,]+)&lt',\n",
    "    page.text)\n",
    "icd_subcategory_df = pd.DataFrame(sub_categories, columns=['ICD_SUBRANGE', 'ICD_SUBCATEGORY_DESC'])\n",
    "icd_subcategory_df['ICD_SUBCATEGORY_DESC_REPL'] = icd_subcategory_df.ICD_SUBCATEGORY_DESC.str.replace('-', ' ', regex=False).str.replace('[^\\w\\s]','', regex=True).str.lower()\n",
    "icd_subcategory_df = icd_subcategory_df.reset_index().rename({'index': 'ICD_SUBCATEGORY_INDEX'}, axis=1)"
   ]
  },
  {
   "cell_type": "markdown",
   "id": "3065bac3",
   "metadata": {},
   "source": [
    "### Assign a subcategory index value to every ICD-9 code in every visit"
   ]
  },
  {
   "cell_type": "code",
   "execution_count": null,
   "id": "bf8c5309",
   "metadata": {},
   "outputs": [],
   "source": [
    "def get_subcategory_index(row):\n",
    "    try:\n",
    "        icd_cat = int(row.ICD_CAT)\n",
    "    except ValueError:\n",
    "        icd_cat = int(row.ICD_CAT[1:])\n",
    "    if row.ICD_CAT.startswith('E'):\n",
    "        for idx in icd_subcategory_df[icd_subcategory_df.ICD_SUBRANGE.str.startswith('E')].index:\n",
    "            low, high = [int(i[1:]) for i in icd_subcategory_df.iloc[idx].ICD_SUBRANGE.split('-')]\n",
    "            if icd_cat >= low and icd_cat <= high:\n",
    "                return idx\n",
    "    elif row.ICD_CAT.startswith('V'):\n",
    "        for idx in icd_subcategory_df[icd_subcategory_df.ICD_SUBRANGE.str.startswith('V')].index:\n",
    "            low, high = [int(i[1:]) for i in icd_subcategory_df.iloc[idx].ICD_SUBRANGE.split('-')]\n",
    "            if icd_cat >= low and icd_cat <= high:\n",
    "                return idx\n",
    "    else:\n",
    "        for idx in icd_subcategory_df[~((icd_subcategory_df.ICD_SUBRANGE.str.startswith('E')) | (icd_subcategory_df.ICD_SUBRANGE.str.startswith('V')))].index:\n",
    "            if '-' in icd_subcategory_df.iloc[idx].ICD_SUBRANGE:\n",
    "                low, high = [int(i) for i in icd_subcategory_df.iloc[idx].ICD_SUBRANGE.split('-')]\n",
    "                if icd_cat >= low and icd_cat <= high:\n",
    "                    return idx\n",
    "            else:\n",
    "                if icd_cat == int(icd_subcategory_df.iloc[idx].ICD_SUBRANGE):\n",
    "                    return idx\n",
    "\n",
    "icu_diag_merge['ICD_SUBCATEGORY_INDEX'] = icu_diag_merge.apply(get_subcategory_index, axis=1)\n",
    "icu_diag_merge = pd.merge(icu_diag_merge, icd_subcategory_df, left_on='ICD_SUBCATEGORY_INDEX', right_on='ICD_SUBCATEGORY_INDEX')"
   ]
  },
  {
   "cell_type": "markdown",
   "id": "7c7f239f",
   "metadata": {},
   "source": [
    "### Create DataFrame of ICD-9 codes and associated lists"
   ]
  },
  {
   "cell_type": "code",
   "execution_count": null,
   "id": "81e69c7d",
   "metadata": {},
   "outputs": [],
   "source": [
    "icd9_df = (pd.DataFrame(icu_diag_merge, columns=[\"ICD9_CODE\", \"LONG_TITLE_REPL\"])\n",
    "           .drop_duplicates(subset=\"ICD9_CODE\")\n",
    "           .sort_values(\"ICD9_CODE\"))\n",
    "icd9_df = (icd9_df\n",
    "           .reset_index(drop=True)\n",
    "           .reset_index()\n",
    "           .rename({'index': 'ICD9_CODE_INDEX'}, axis=1))\n",
    "\n",
    "icd9 = icd9_df.ICD9_CODE.tolist()\n",
    "icd9_text = icd9_df.LONG_TITLE_REPL.tolist()"
   ]
  },
  {
   "cell_type": "markdown",
   "id": "5cbd2595",
   "metadata": {},
   "source": [
    "### Merge result into ICD Diagnosis df and store with MIMIC data"
   ]
  },
  {
   "cell_type": "code",
   "execution_count": null,
   "id": "666f96cf",
   "metadata": {},
   "outputs": [],
   "source": [
    "icu_diag_merge = pd.merge(icu_diag_merge, icd9_df.drop(columns=['LONG_TITLE_REPL']), left_on='ICD9_CODE', right_on='ICD9_CODE')\n",
    "icu_diag_merge = icu_diag_merge.sort_values(['SUBJECT_ID', 'ICUSTAY_ID'])\n",
    "icu_diag_merge.to_csv(os.path.join(MIMIC_DATA_PATH, \"icu_diag_merge.csv\"))"
   ]
  },
  {
   "cell_type": "markdown",
   "id": "903adaca",
   "metadata": {},
   "source": [
    "### Define functions to calculate summary statistics and review results"
   ]
  },
  {
   "cell_type": "code",
   "execution_count": null,
   "id": "054e318c",
   "metadata": {},
   "outputs": [],
   "source": [
    "def get_description_vocab(input_df, col='LONG_TITLE_REPL'):\n",
    "    words = set()\n",
    "    phrases = input_df[col].unique()\n",
    "    for ph in phrases:\n",
    "        words.update(ph.split())\n",
    "    return words"
   ]
  },
  {
   "cell_type": "code",
   "execution_count": null,
   "id": "aaabde5c",
   "metadata": {},
   "outputs": [],
   "source": [
    "def calculate_summary_stats(input_df):\n",
    "    num_patients = input_df.SUBJECT_ID.nunique()\n",
    "    num_visits = input_df.ICUSTAY_ID.nunique()\n",
    "    mean_visits_per_patient = np.round(num_visits / num_patients, 2)\n",
    "    num_icd = input_df.ICD9_CODE.nunique()\n",
    "    mean_icd_per_visit = np.round(input_df.groupby('ICUSTAY_ID').ICD9_CODE.nunique().mean(), 2)\n",
    "    max_icd_per_visit = input_df.groupby('ICUSTAY_ID').ICD9_CODE.nunique().max()\n",
    "    num_words = len(get_description_vocab(input_df))\n",
    "    num_categories = input_df.ICD_SUBCATEGORY_INDEX.nunique()\n",
    "    mean_categories_per_visit = np.round(input_df.groupby('ICUSTAY_ID').ICD_SUBCATEGORY_INDEX.nunique().mean(), 2)\n",
    "    max_categories_per_visit = input_df.groupby('ICUSTAY_ID').ICD_SUBCATEGORY_INDEX.nunique().max()\n",
    "    print(f\"# of patients: \\t\\t\\t\\t{num_patients:,}\")\n",
    "    print(f\"# of visits: \\t\\t\\t\\t{num_visits:,}\")\n",
    "    print(f\"Avg. visits per patient: \\t\\t{mean_visits_per_patient}\")\n",
    "    print(f\"# of unique ICD9 codes: \\t\\t{num_icd:,}\")\n",
    "    print(f\"Avg. # of diagnosis codes per visit: \\t{mean_icd_per_visit}\")\n",
    "    print(f\"Max # of diagnosis codes per visit: \\t{max_icd_per_visit}\")\n",
    "    print(f\"# of words in code descriptions: \\t{num_words:,}\")\n",
    "    print(f\"# of category codes: \\t\\t\\t{num_categories:,}\")\n",
    "    print(f\"Avg. # of category codes per visit: \\t{mean_categories_per_visit}\")\n",
    "    print(f\"Max # of category codes per visit: \\t{max_categories_per_visit}\")"
   ]
  },
  {
   "cell_type": "code",
   "execution_count": null,
   "id": "e7abbaa1",
   "metadata": {},
   "outputs": [],
   "source": [
    "calculate_summary_stats(icu_diag_merge)"
   ]
  },
  {
   "cell_type": "markdown",
   "id": "a74590cb",
   "metadata": {},
   "source": [
    "### Define functions to extract lists of seqs/targets for various training methods"
   ]
  },
  {
   "cell_type": "code",
   "execution_count": null,
   "id": "dd475d79",
   "metadata": {},
   "outputs": [],
   "source": [
    "def construct_targets(pids):\n",
    "    seqs = []\n",
    "    for p_idx, pid in enumerate(pids):\n",
    "        seqs.append([])\n",
    "        subset = icu_diag_merge[icu_diag_merge.SUBJECT_ID == pid]\n",
    "        vid_subset = subset.ICUSTAY_ID.unique()\n",
    "        for v_idx, vid in enumerate(vid_subset):\n",
    "            seqs[p_idx].append(subset[subset.ICUSTAY_ID == vid].ICD_SUBCATEGORY_INDEX.unique().tolist())\n",
    "    return seqs"
   ]
  },
  {
   "cell_type": "code",
   "execution_count": null,
   "id": "c6de03f1",
   "metadata": {},
   "outputs": [],
   "source": [
    "def construct_seqs(pids):\n",
    "    seqs = []\n",
    "    vids = []\n",
    "    for p_idx, pid in enumerate(pids):\n",
    "        vids.append([])\n",
    "        seqs.append([])\n",
    "        subset = icu_diag_merge[icu_diag_merge.SUBJECT_ID == pid]\n",
    "        vid_subset = subset.ICUSTAY_ID.unique()\n",
    "        for v_idx, vid in enumerate(vid_subset):\n",
    "            vids[p_idx].append(v_idx)\n",
    "            seqs[p_idx].append(subset[subset.ICUSTAY_ID == vid].ICD9_CODE_INDEX.unique().tolist())\n",
    "    return seqs, vids"
   ]
  },
  {
   "cell_type": "code",
   "execution_count": null,
   "id": "dd4f3d87",
   "metadata": {},
   "outputs": [],
   "source": [
    "def construct_text_seqs(pids):\n",
    "    seqs = []\n",
    "    for p_idx, pid in enumerate(pids):\n",
    "        seqs.append([])\n",
    "        subset = icu_diag_merge[icu_diag_merge.SUBJECT_ID == pid]\n",
    "        vid_subset = subset.ICUSTAY_ID.unique()\n",
    "        for v_idx, vid in enumerate(vid_subset):\n",
    "            seqs[p_idx].append(\n",
    "                subset[subset.ICUSTAY_ID == vid].LONG_TITLE_REPL.unique().tolist()\n",
    "            )\n",
    "    return seqs"
   ]
  },
  {
   "cell_type": "code",
   "execution_count": null,
   "id": "c27f8b3b",
   "metadata": {},
   "outputs": [],
   "source": [
    "def construct_seqs_multihot(pids):\n",
    "    seqs = []\n",
    "    vids = []\n",
    "    for p_idx, pid in enumerate(pids):\n",
    "        vids.append([])\n",
    "        seqs.append([])\n",
    "        subset = icu_diag_merge[icu_diag_merge.SUBJECT_ID == pid]\n",
    "        vid_subset = subset.ICUSTAY_ID.unique()\n",
    "        for v_idx, vid in enumerate(vid_subset):\n",
    "            vids[p_idx].append(v_idx)\n",
    "            seq_idxs = (subset[subset.ICUSTAY_ID == vid].ICD9_CODE_INDEX.unique())\n",
    "            seq_row = np.zeros(len(icd9_df), dtype=int)\n",
    "            seq_row[seq_idxs] = 1\n",
    "            seqs[p_idx].append(seq_row.tolist())\n",
    "            #seqs[p_idx].append(subset[subset.ICUSTAY_ID == vid].ICD_SUBCATEGORY_INDEX.unique().tolist())\n",
    "    return seqs, vids"
   ]
  },
  {
   "cell_type": "markdown",
   "id": "2d62ca9f",
   "metadata": {},
   "source": [
    "### Extract relevant data from DataFrame into lists and save pickle for training"
   ]
  },
  {
   "cell_type": "code",
   "execution_count": null,
   "id": "0c8d6e1f",
   "metadata": {},
   "outputs": [],
   "source": [
    "pids = icu_diag_merge.SUBJECT_ID.unique().tolist()\n",
    "diags = icu_diag_merge.ICD_CAT.unique().tolist()\n",
    "sub_categories = icd_subcategory_df.ICD_SUBRANGE.unique().tolist()\n",
    "codes = icu_diag_merge.ICD9_CODE_INDEX.unique().tolist()\n",
    "seqs, vids = construct_seqs(pids)\n",
    "text_seqs = construct_text_seqs(pids)\n",
    "targets = construct_targets(pids)"
   ]
  },
  {
   "cell_type": "code",
   "execution_count": null,
   "id": "fc58e22b",
   "metadata": {},
   "outputs": [],
   "source": [
    "with open(os.path.join(OUT_PATH, 'pids.pkl'), 'wb') as f:\n",
    "    pickle.dump(pids, f)"
   ]
  },
  {
   "cell_type": "code",
   "execution_count": null,
   "id": "f8c2ee33",
   "metadata": {},
   "outputs": [],
   "source": [
    "with open(os.path.join(OUT_PATH, 'seqs.pkl'), 'wb') as f:\n",
    "    pickle.dump(seqs, f)"
   ]
  },
  {
   "cell_type": "code",
   "execution_count": null,
   "id": "edf57ba1",
   "metadata": {},
   "outputs": [],
   "source": [
    "with open(os.path.join(OUT_PATH, 'text_seqs.pkl'), 'wb') as f:\n",
    "    pickle.dump(text_seqs, f)"
   ]
  },
  {
   "cell_type": "code",
   "execution_count": null,
   "id": "9287dd6f",
   "metadata": {},
   "outputs": [],
   "source": [
    "with open(os.path.join(OUT_PATH, 'targets.pkl'), 'wb') as f:\n",
    "    pickle.dump(targets, f)"
   ]
  },
  {
   "cell_type": "code",
   "execution_count": null,
   "id": "acd82256",
   "metadata": {},
   "outputs": [],
   "source": [
    "with open(os.path.join(OUT_PATH, 'vids.pkl'), 'wb') as f:\n",
    "    pickle.dump(vids, f)"
   ]
  },
  {
   "cell_type": "code",
   "execution_count": null,
   "id": "8fbf4caf",
   "metadata": {},
   "outputs": [],
   "source": [
    "with open(os.path.join(OUT_PATH, 'subcategories.pkl'), 'wb') as f:\n",
    "    pickle.dump(sub_categories, f)"
   ]
  },
  {
   "cell_type": "code",
   "execution_count": null,
   "id": "793342c8",
   "metadata": {},
   "outputs": [],
   "source": [
    "with open(os.path.join(OUT_PATH, 'categories.pkl'), 'wb') as f:\n",
    "    pickle.dump(categories, f)"
   ]
  },
  {
   "cell_type": "code",
   "execution_count": null,
   "id": "6f653fde",
   "metadata": {},
   "outputs": [],
   "source": [
    "with open(os.path.join(OUT_PATH, 'icd9.pkl'), 'wb') as f:\n",
    "    pickle.dump(icd9, f)"
   ]
  },
  {
   "cell_type": "code",
   "execution_count": null,
   "id": "dd35582d",
   "metadata": {},
   "outputs": [],
   "source": [
    "with open(os.path.join(OUT_PATH, 'icd9_text.pkl'), 'wb') as f:\n",
    "    pickle.dump(icd9_text, f)"
   ]
  },
  {
   "cell_type": "code",
   "execution_count": null,
   "id": "0da310b8",
   "metadata": {},
   "outputs": [],
   "source": [
    "with open(os.path.join(OUT_PATH, 'diags.pkl'), 'wb') as f:\n",
    "    pickle.dump(diags, f)"
   ]
  },
  {
   "cell_type": "markdown",
   "id": "095c8239",
   "metadata": {},
   "source": [
    "### Define additional methods for constructing targets with category probabilities"
   ]
  },
  {
   "cell_type": "code",
   "execution_count": null,
   "id": "ea1a63a2",
   "metadata": {},
   "outputs": [],
   "source": [
    "def calculate_prob_row(row_indxs, num_categories):\n",
    "    unit_p = 1 / len(row_indxs)\n",
    "    row = [0.0] * num_categories\n",
    "    for ri in row_indxs:\n",
    "        row[ri] += unit_p\n",
    "    assert np.isclose(sum(row), 1.0), f\"row={row}, sum row={sum(row)}\"\n",
    "    return row"
   ]
  },
  {
   "cell_type": "code",
   "execution_count": null,
   "id": "bd139925",
   "metadata": {},
   "outputs": [],
   "source": [
    "def construct_prob_targets_last_visit(pids, categories, field='ICD_SUBCATEGORY_INDEX'):\n",
    "    targets = []\n",
    "    num_categories = len(categories)\n",
    "    for p_idx, pid in enumerate(pids):\n",
    "        subset = icu_diag_merge[icu_diag_merge.SUBJECT_ID == pid]\n",
    "        last_visit = subset.ICUSTAY_ID.unique()[-1]\n",
    "        row_indxs = subset[subset.ICUSTAY_ID == last_visit][field].tolist()\n",
    "        targets.append(calculate_prob_row(row_indxs, num_categories))\n",
    "    return targets"
   ]
  },
  {
   "cell_type": "code",
   "execution_count": null,
   "id": "02ad2356",
   "metadata": {},
   "outputs": [],
   "source": [
    "def construct_prob_targets_all_visits(pids, categories, field='ICD_SUBCATEGORY_INDEX'):\n",
    "    targets = []\n",
    "    num_categories = len(categories)\n",
    "    for p_idx, pid in enumerate(pids):\n",
    "        visit = []\n",
    "        subset = icu_diag_merge[icu_diag_merge.SUBJECT_ID == pid]\n",
    "        visits = subset.ICUSTAY_ID.unique()\n",
    "        for v in visits:\n",
    "            row_indxs = subset[subset.ICUSTAY_ID == v][field].tolist()\n",
    "            visit.append(calculate_prob_row(row_indxs, num_categories))\n",
    "        targets.append(visit)\n",
    "    return targets"
   ]
  },
  {
   "cell_type": "markdown",
   "id": "51870cd3",
   "metadata": {},
   "source": [
    "### Construct probability target lists and save with pickle"
   ]
  },
  {
   "cell_type": "code",
   "execution_count": null,
   "id": "e9fd8290",
   "metadata": {},
   "outputs": [],
   "source": [
    "prob_targets = construct_prob_targets_last_visit(pids, sub_categories)\n",
    "prob_targets_allvisits = construct_prob_targets_all_visits(pids, sub_categories)"
   ]
  },
  {
   "cell_type": "code",
   "execution_count": null,
   "id": "779c1a35",
   "metadata": {},
   "outputs": [],
   "source": [
    "with open(os.path.join(OUT_PATH, 'prob_targets.pkl'), 'wb') as f:\n",
    "    pickle.dump(prob_targets, f)"
   ]
  },
  {
   "cell_type": "code",
   "execution_count": null,
   "id": "acce2608",
   "metadata": {},
   "outputs": [],
   "source": [
    "with open(os.path.join(OUT_PATH, 'prob_targets_allvisits.pkl'), 'wb') as f:\n",
    "    pickle.dump(prob_targets_allvisits, f)"
   ]
  },
  {
   "cell_type": "code",
   "execution_count": null,
   "id": "5770212a",
   "metadata": {},
   "outputs": [],
   "source": []
  }
 ],
 "metadata": {
  "kernelspec": {
   "display_name": "dl4h",
   "language": "python",
   "name": "dl4h"
  },
  "language_info": {
   "codemirror_mode": {
    "name": "ipython",
    "version": 3
   },
   "file_extension": ".py",
   "mimetype": "text/x-python",
   "name": "python",
   "nbconvert_exporter": "python",
   "pygments_lexer": "ipython3",
   "version": "3.8.12"
  }
 },
 "nbformat": 4,
 "nbformat_minor": 5
}
